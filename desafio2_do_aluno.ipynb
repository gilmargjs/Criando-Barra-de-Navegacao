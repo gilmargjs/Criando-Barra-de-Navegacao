{
  "nbformat": 4,
  "nbformat_minor": 0,
  "metadata": {
    "colab": {
      "name": "desafio2 do aluno",
      "provenance": [],
      "collapsed_sections": [],
      "authorship_tag": "ABX9TyMKJQXEf0XTFlkpYKTdAzuu",
      "include_colab_link": true
    },
    "kernelspec": {
      "name": "python3",
      "display_name": "Python 3"
    },
    "language_info": {
      "name": "python"
    }
  },
  "cells": [
    {
      "cell_type": "markdown",
      "metadata": {
        "id": "view-in-github",
        "colab_type": "text"
      },
      "source": [
        "<a href=\"https://colab.research.google.com/github/gilmargjs/Criando-Barra-de-Navegacao/blob/main/desafio2_do_aluno.ipynb\" target=\"_parent\"><img src=\"https://colab.research.google.com/assets/colab-badge.svg\" alt=\"Open In Colab\"/></a>"
      ]
    },
    {
      "cell_type": "markdown",
      "metadata": {
        "id": "Y69LDDvwe9Ed"
      },
      "source": [
        "ESTRUTURA DE REPETIÇÃO"
      ]
    },
    {
      "cell_type": "code",
      "metadata": {
        "colab": {
          "base_uri": "https://localhost:8080/"
        },
        "id": "wFrMI3mZeX71",
        "outputId": "bb265a56-5a28-4eb3-a35f-c5c1696d390d"
      },
      "source": [
        "True,False\n",
        "print(5 < 6)\n",
        "print(5 >= 6)\n",
        "print(5 == 6)\n",
        "print(5 != 6)\n",
        "print('M' == 'A')\n",
        "print('M' == 'M')\n",
        "print('M' == 'm')\n",
        "#podemos transformar letrar tanto em minusculo como em maiuscul\n",
        "print('Gilmar'.lower(),'Gilmar'.upper())\n"
      ],
      "execution_count": 4,
      "outputs": [
        {
          "output_type": "stream",
          "text": [
            "True\n",
            "False\n",
            "False\n",
            "True\n",
            "False\n",
            "True\n",
            "False\n",
            "gilmar GILMAR\n"
          ],
          "name": "stdout"
        }
      ]
    },
    {
      "cell_type": "markdown",
      "metadata": {
        "id": "eGECmIy7izzC"
      },
      "source": [
        "faça um programa para verifar duas  notas parciais de um aluno. o programa deve  calculara a média alcançada pelo aluno e apresentar:\n",
        "  -Aprovado, se o aluno alcançou a média maior ou igual a sete;\n",
        "  \n",
        "  -Reprovado se a média for menor que sete\n",
        "  \n",
        "  -Aprovado com Distinção se a média for igual a dez;"
      ]
    },
    {
      "cell_type": "code",
      "metadata": {
        "colab": {
          "base_uri": "https://localhost:8080/"
        },
        "id": "qRiqAsKLiy1G",
        "outputId": "63ecf754-548f-4d98-9002-fabf5543a78d"
      },
      "source": [
        "print('-='*25)\n",
        "print(f'{\"Média do Aluno\":^45}')\n",
        "print('-='*25)\n",
        "\n",
        "lista = []\n",
        "soma = 0\n",
        "\n",
        "for i in range(0,3):\n",
        "  lista.append(float(input(\"Digite as 3 nota: \")))\n",
        "for valor in lista:\n",
        "  soma+=valor\n",
        "  media = soma/3\n",
        "if  media < 7:\n",
        "  print(f'Estude mais, você esta Reprovado sua média foi {media}')\n",
        "elif media >= 7 and media < 10:\n",
        "  print(f'Parabens!, você está Aprovado sua média foi {media}')\n",
        "elif media == 10:\n",
        "  print(f'Paarabens você foi aprovado com Distinção sua média foi {media}')\n",
        "print('-='*25)"
      ],
      "execution_count": 32,
      "outputs": [
        {
          "output_type": "stream",
          "text": [
            "-=-=-=-=-=-=-=-=-=-=-=-=-=-=-=-=-=-=-=-=-=-=-=-=-=\n",
            "               Média do Aluno                \n",
            "-=-=-=-=-=-=-=-=-=-=-=-=-=-=-=-=-=-=-=-=-=-=-=-=-=\n",
            "Digite as 3 nota: 8\n",
            "Digite as 3 nota: 9\n",
            "Digite as 3 nota: 10\n",
            "Parabens!, você está Aprovado sua média foi 9.0\n",
            "-=-=-=-=-=-=-=-=-=-=-=-=-=-=-=-=-=-=-=-=-=-=-=-=-=\n"
          ],
          "name": "stdout"
        }
      ]
    },
    {
      "cell_type": "markdown",
      "metadata": {
        "id": "AOpOn0OZehb6"
      },
      "source": [
        ""
      ]
    }
  ]
}