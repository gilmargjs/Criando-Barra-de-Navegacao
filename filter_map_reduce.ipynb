{
  "nbformat": 4,
  "nbformat_minor": 0,
  "metadata": {
    "colab": {
      "name": "filter_map_reduce.ipynb",
      "provenance": [],
      "collapsed_sections": [],
      "authorship_tag": "ABX9TyMDkde4WQwFxlf6lBQbm0kU",
      "include_colab_link": true
    },
    "kernelspec": {
      "name": "python3",
      "display_name": "Python 3"
    }
  },
  "cells": [
    {
      "cell_type": "markdown",
      "metadata": {
        "id": "view-in-github",
        "colab_type": "text"
      },
      "source": [
        "<a href=\"https://colab.research.google.com/github/gilmargjs/Criando-Barra-de-Navegacao/blob/main/filter_map_reduce.ipynb\" target=\"_parent\"><img src=\"https://colab.research.google.com/assets/colab-badge.svg\" alt=\"Open In Colab\"/></a>"
      ]
    },
    {
      "cell_type": "markdown",
      "metadata": {
        "id": "r_Jiv4yeBCvi"
      },
      "source": [
        "programa com  filter, map e reduce"
      ]
    },
    {
      "cell_type": "code",
      "metadata": {
        "id": "9d8RUpg86Mpr"
      },
      "source": [
        "#importando o modulo reduce\n",
        "#obs: reduce esta dentro de functools\n",
        "from functools import reduce "
      ],
      "execution_count": 9,
      "outputs": []
    },
    {
      "cell_type": "markdown",
      "metadata": {
        "id": "ky-e1KCgBYao"
      },
      "source": [
        ""
      ]
    },
    {
      "cell_type": "code",
      "metadata": {
        "id": "Ts_tbjaa65YV"
      },
      "source": [
        "#criando uma lista\n",
        "lista = [1,1.7,2,2.5,3,.3]"
      ],
      "execution_count": 10,
      "outputs": []
    },
    {
      "cell_type": "code",
      "metadata": {
        "id": "YUQrWAec8FDg"
      },
      "source": [
        "# defindo uma função para verificar \n",
        "#se o numero é inteiro\n",
        "def inteiro(x):\n",
        "    if type(x) == int: \n",
        "      return True \n",
        "    else:  \n",
        "      return False   "
      ],
      "execution_count": 3,
      "outputs": []
    },
    {
      "cell_type": "code",
      "metadata": {
        "id": "5G2cduw6-BWV"
      },
      "source": [
        "#filtrando os numeros inteiros\n",
        "filtrado = list(filter(inteiro, lista))"
      ],
      "execution_count": 17,
      "outputs": []
    },
    {
      "cell_type": "code",
      "metadata": {
        "id": "4nXdGECL_eZl"
      },
      "source": [
        "#definindo uma função para retorna os numeros ao quadrado\n",
        "def quadrado(x):\n",
        "  return x ** 2"
      ],
      "execution_count": 16,
      "outputs": []
    },
    {
      "cell_type": "code",
      "metadata": {
        "id": "9QVwrZjN_vd6"
      },
      "source": [
        "mapeado = list(map(quadrado, filtrado))"
      ],
      "execution_count": 24,
      "outputs": []
    },
    {
      "cell_type": "code",
      "metadata": {
        "id": "S23YNUy9_-Mh"
      },
      "source": [
        "def soma(x,y):\n",
        "  return x + y"
      ],
      "execution_count": 20,
      "outputs": []
    },
    {
      "cell_type": "code",
      "metadata": {
        "colab": {
          "base_uri": "https://localhost:8080/"
        },
        "id": "rN-Qv9lyAxvA",
        "outputId": "6085bc93-400a-44af-b9c8-eec5dc35112b"
      },
      "source": [
        "reduce(soma, mapeado)"
      ],
      "execution_count": 25,
      "outputs": [
        {
          "output_type": "execute_result",
          "data": {
            "text/plain": [
              "14"
            ]
          },
          "metadata": {
            "tags": []
          },
          "execution_count": 25
        }
      ]
    },
    {
      "cell_type": "markdown",
      "metadata": {
        "id": "suScinaCBCsT"
      },
      "source": [
        ""
      ]
    }
  ]
}