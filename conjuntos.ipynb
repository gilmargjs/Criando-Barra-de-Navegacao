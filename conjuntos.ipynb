{
  "nbformat": 4,
  "nbformat_minor": 0,
  "metadata": {
    "colab": {
      "name": "conjuntos.ipynb",
      "provenance": [],
      "collapsed_sections": [],
      "authorship_tag": "ABX9TyMDOjmayiPrtviuV4oR2xup",
      "include_colab_link": true
    },
    "kernelspec": {
      "name": "python3",
      "display_name": "Python 3"
    },
    "language_info": {
      "name": "python"
    }
  },
  "cells": [
    {
      "cell_type": "markdown",
      "metadata": {
        "id": "view-in-github",
        "colab_type": "text"
      },
      "source": [
        "<a href=\"https://colab.research.google.com/github/gilmargjs/Criando-Barra-de-Navegacao/blob/main/conjuntos.ipynb\" target=\"_parent\"><img src=\"https://colab.research.google.com/assets/colab-badge.svg\" alt=\"Open In Colab\"/></a>"
      ]
    },
    {
      "cell_type": "code",
      "metadata": {
        "id": "oEW_oITbYhvG"
      },
      "source": [
        "#conjuntos\n",
        "planeta_anao = {'Plutão','Ceres','Eris','Haumea','Makemake'}\n",
        "print(planeta_anao)"
      ],
      "execution_count": null,
      "outputs": []
    },
    {
      "cell_type": "code",
      "metadata": {
        "colab": {
          "base_uri": "https://localhost:8080/"
        },
        "id": "01qVSAmRYxuC",
        "outputId": "0bec71f0-a356-43e6-e163-4d6e8b9018e8"
      },
      "source": [
        "#quantidade de planetas\n",
        "quat_p = len(planeta_anao)\n",
        "print(quat_p)"
      ],
      "execution_count": 3,
      "outputs": [
        {
          "output_type": "stream",
          "text": [
            "5\n"
          ],
          "name": "stdout"
        }
      ]
    },
    {
      "cell_type": "code",
      "metadata": {
        "colab": {
          "base_uri": "https://localhost:8080/"
        },
        "id": "Pk9xzkdiZeyx",
        "outputId": "bbad6f07-d014-4eb8-ee72-b83b5b862c15"
      },
      "source": [
        "\n",
        "#tem Eris em planeta anao ?\n",
        "'Eris' in planeta_anao"
      ],
      "execution_count": 4,
      "outputs": [
        {
          "output_type": "execute_result",
          "data": {
            "text/plain": [
              "True"
            ]
          },
          "metadata": {
            "tags": []
          },
          "execution_count": 4
        }
      ]
    },
    {
      "cell_type": "code",
      "metadata": {
        "colab": {
          "base_uri": "https://localhost:8080/"
        },
        "id": "17q3U99cZooo",
        "outputId": "ca6d2332-3a94-47b9-dd4d-6ddb5ae7a713"
      },
      "source": [
        "#tem lua em planeta anao ?\n",
        "'lua' not in planeta_anao"
      ],
      "execution_count": 7,
      "outputs": [
        {
          "output_type": "execute_result",
          "data": {
            "text/plain": [
              "True"
            ]
          },
          "metadata": {
            "tags": []
          },
          "execution_count": 7
        }
      ]
    },
    {
      "cell_type": "code",
      "metadata": {
        "colab": {
          "base_uri": "https://localhost:8080/"
        },
        "id": "dtylISXvZ-ZR",
        "outputId": "8394773e-fde6-42e5-aa69-f93dacbbf19e"
      },
      "source": [
        "#para cada astro em palneta anao\n",
        "#imprimir astro passando para maiusculo\n",
        "for astro in planeta_anao:\n",
        "    print(astro.upper())"
      ],
      "execution_count": 10,
      "outputs": [
        {
          "output_type": "stream",
          "text": [
            "PLUTÃO\n",
            "ERIS\n",
            "CERES\n",
            "MAKEMAKE\n",
            "HAUMEA\n"
          ],
          "name": "stdout"
        }
      ]
    },
    {
      "cell_type": "code",
      "metadata": {
        "colab": {
          "base_uri": "https://localhost:8080/"
        },
        "id": "9ImbeC0JbMiS",
        "outputId": "5b3e094d-37b1-43f1-d334-7ee90758d181"
      },
      "source": [
        "#set transforma lista em conjuntos sem repetir itens\n",
        "astros = ['lua','marte','venus','plutão','lua']\n",
        "print('lista:',astros)\n",
        "astrosSet = set(astros)#converte em conjuntos\n",
        "print('conjunto:',astrosSet)"
      ],
      "execution_count": 14,
      "outputs": [
        {
          "output_type": "stream",
          "text": [
            "lista: ['lua', 'marte', 'venus', 'plutão', 'lua']\n",
            "conjunto: {'lua', 'marte', 'plutão', 'venus'}\n"
          ],
          "name": "stdout"
        }
      ]
    },
    {
      "cell_type": "code",
      "metadata": {
        "colab": {
          "base_uri": "https://localhost:8080/"
        },
        "id": "yXiYEO7pdAJN",
        "outputId": "19641098-80ef-47a1-9d3b-61b7b9097509"
      },
      "source": [
        "#comparar conjuntos\n",
        "p1 = {'Terra','Venus','Mercurio','Marte'}\n",
        "p2 = {'Terra','Venus','Mercurio','Marte','Satruno'}\n",
        "print(p1 == p2)#verifica se á igual\n",
        "print(p1 != p2)#verifica se é diferente"
      ],
      "execution_count": 17,
      "outputs": [
        {
          "output_type": "stream",
          "text": [
            "False\n",
            "True\n"
          ],
          "name": "stdout"
        }
      ]
    },
    {
      "cell_type": "code",
      "metadata": {
        "colab": {
          "base_uri": "https://localhost:8080/"
        },
        "id": "ea4FXzwoeFrQ",
        "outputId": "40ae4748-0cef-452a-ab94-3bce0b7178f9"
      },
      "source": [
        " #união entre conjuntos e elimina as repetições\n",
        " p1 = {'Terra','Venus','Mercurio','Marte','Neturno'}\n",
        "p2 = {'Terra','jupter','Urano','Marte','Satruno'}\n",
        "p3 = p1 | p2#uni os dois sem repetir \n",
        "print(p3)"
      ],
      "execution_count": 19,
      "outputs": [
        {
          "output_type": "stream",
          "text": [
            "{'Marte', 'jupter', 'Neturno', 'Terra', 'Mercurio', 'Venus', 'Satruno', 'Urano'}\n"
          ],
          "name": "stdout"
        }
      ]
    },
    {
      "cell_type": "code",
      "metadata": {
        "colab": {
          "base_uri": "https://localhost:8080/"
        },
        "id": "2df8HtICfIX-",
        "outputId": "649fd992-5658-4c5a-c532-00f0a27ac7fa"
      },
      "source": [
        " #união entre conjuntos e elimina as repetições\n",
        "p1 = {'Terra','Venus','Mercurio','Marte','Neturno'}\n",
        "p2 = {'Terra','jupter','Urano','Marte','Satruno'}\n",
        "p4 = p1.union(p2)#outra forma de unir os dois sem repetir \n",
        "print(p4)"
      ],
      "execution_count": 21,
      "outputs": [
        {
          "output_type": "stream",
          "text": [
            "{'Marte', 'jupter', 'Neturno', 'Terra', 'Mercurio', 'Venus', 'Satruno', 'Urano'}\n"
          ],
          "name": "stdout"
        }
      ]
    },
    {
      "cell_type": "code",
      "metadata": {
        "colab": {
          "base_uri": "https://localhost:8080/"
        },
        "id": "0byRmYsAf05K",
        "outputId": "1192420f-bd47-4436-e3bc-81cbfa6936fb"
      },
      "source": [
        "#intersecção entre conjuntos: Retorna os itens que existe nos dois\n",
        "p1 = {'Terra','Venus','Mercurio','Marte','Neturno'}\n",
        "p2 = {'Terra','jupter','Urano','Marte','Satruno'}\n",
        "p5 = p1 & p2 #intersecção retorna os itens que existe nos dois conjuntos \n",
        "print(p5)"
      ],
      "execution_count": 22,
      "outputs": [
        {
          "output_type": "stream",
          "text": [
            "{'Marte', 'Terra'}\n"
          ],
          "name": "stdout"
        }
      ]
    },
    {
      "cell_type": "code",
      "metadata": {
        "colab": {
          "base_uri": "https://localhost:8080/"
        },
        "id": "xUiyoG_dgple",
        "outputId": "42e4b591-f581-4cf9-db8b-10f22002f679"
      },
      "source": [
        "#intersecção entre conjuntos: Retorna os itens que existe nos dois\n",
        "p1 = {'Terra','Venus','Mercurio','Marte','Neturno'}\n",
        "p2 = {'Terra','jupter','Urano','Marte','Satruno'}\n",
        "p6 = p1.intersection(p2) #outra forma intersecção retorna os itens que existe nos dois conjuntos \n",
        "print(p6)"
      ],
      "execution_count": 23,
      "outputs": [
        {
          "output_type": "stream",
          "text": [
            "{'Marte', 'Terra'}\n"
          ],
          "name": "stdout"
        }
      ]
    },
    {
      "cell_type": "code",
      "metadata": {
        "colab": {
          "base_uri": "https://localhost:8080/"
        },
        "id": "77dVOY5Tflu1",
        "outputId": "61fea978-732d-4506-8f1b-8c7037561268"
      },
      "source": [
        "#Diferença entre conjuntos\n",
        "p1 = {'Terra','Venus','Mercurio','Marte','Neturno'}\n",
        "p2 = {'Terra','jupter','Urano','Marte','Satruno'}\n",
        "p7 = p1 - p2 #Retorna os itens de p1 que não estão em p2(obs:se  usar p2 -p1 retornará o que tem em p2 que não está em p1) \n",
        "print(p7)"
      ],
      "execution_count": 24,
      "outputs": [
        {
          "output_type": "stream",
          "text": [
            "{'Venus', 'Mercurio', 'Neturno'}\n"
          ],
          "name": "stdout"
        }
      ]
    },
    {
      "cell_type": "code",
      "metadata": {
        "colab": {
          "base_uri": "https://localhost:8080/"
        },
        "id": "8ivpySAziS36",
        "outputId": "f5dcdd8a-332f-4043-bdd3-1b81fcc21411"
      },
      "source": [
        "#Diferença entre conjuntos\n",
        "p1 = {'Terra','Venus','Mercurio','Marte','Neturno'}\n",
        "p2 = {'Terra','jupter','Urano','Marte','Satruno'}\n",
        "p8 = p2.difference(p1) #outra forma: Retorna os itens de p2 que não estão em p1(obs:se  usar p1 - p2 retornará o que tem em p1 que não está em p2) \n",
        "print(p8)"
      ],
      "execution_count": 26,
      "outputs": [
        {
          "output_type": "stream",
          "text": [
            "{'jupter', 'Satruno', 'Urano'}\n"
          ],
          "name": "stdout"
        }
      ]
    },
    {
      "cell_type": "code",
      "metadata": {
        "colab": {
          "base_uri": "https://localhost:8080/"
        },
        "id": "zeAVOjCji3F2",
        "outputId": "91799366-6ea4-4234-a672-cab733502ed5"
      },
      "source": [
        "#Diferença Simetrica(oque está em um que não está no outro)\n",
        "p1 = {'Terra','Venus','Mercurio','Marte','Neturno'}\n",
        "p2 = {'Terra','jupter','Urano','Marte','Satruno'}\n",
        "p9 = p1 ^ p2 #Retorna os itens que está em um que não está no Outro\n",
        "print(p9)"
      ],
      "execution_count": 27,
      "outputs": [
        {
          "output_type": "stream",
          "text": [
            "{'Venus', 'jupter', 'Neturno', 'Mercurio', 'Satruno', 'Urano'}\n"
          ],
          "name": "stdout"
        }
      ]
    },
    {
      "cell_type": "code",
      "metadata": {
        "colab": {
          "base_uri": "https://localhost:8080/"
        },
        "id": "5UoNMC1FjoL_",
        "outputId": "ee5686de-14b9-43fa-bac3-4be0e28c19d1"
      },
      "source": [
        "#Diferença Simetrica(oque está em um que não está no outro)\n",
        "p1 = {'Terra','Venus','Mercurio','Marte','Neturno'}\n",
        "p2 = {'Terra','jupter','Urano','Marte','Satruno'}\n",
        "p10 = p1.symmetric_difference(p2) #Outra Forma de Retornar os itens que está em um que não está no Outro\n",
        "print(p10)"
      ],
      "execution_count": 28,
      "outputs": [
        {
          "output_type": "stream",
          "text": [
            "{'Venus', 'jupter', 'Neturno', 'Mercurio', 'Satruno', 'Urano'}\n"
          ],
          "name": "stdout"
        }
      ]
    },
    {
      "cell_type": "code",
      "metadata": {
        "colab": {
          "base_uri": "https://localhost:8080/"
        },
        "id": "Ib82IEFzklK3",
        "outputId": "39b43cb3-97ef-4981-8382-4ef3f88c17b6"
      },
      "source": [
        "#copiar elementos de um conjunto para outro\n",
        "g1 = {'eu','voce','nos'}\n",
        "g2 = g1.copy()\n",
        "print('g1;',g1)\n",
        "print('g2;',g2)\n",
        "#obs: as alterações na origem não reflete no destino\n",
        "#é aconselhavel sempre usar o metodo copy() em vez \n",
        "#do operador de atribuição"
      ],
      "execution_count": 31,
      "outputs": [
        {
          "output_type": "stream",
          "text": [
            "g1; {'voce', 'nos', 'eu'}\n",
            "g2; {'voce', 'nos', 'eu'}\n"
          ],
          "name": "stdout"
        }
      ]
    },
    {
      "cell_type": "code",
      "metadata": {
        "colab": {
          "base_uri": "https://localhost:8080/"
        },
        "id": "USXaFqY0lx3N",
        "outputId": "de0c2326-534c-4b11-d267-f7103384a0a9"
      },
      "source": [
        "#adicionando elementos\n",
        "l1 = {'Terra','Venus','Mercurio','Marte','Neturno'}\n",
        "l1.add('gilmar')#adiciona elementos no conjunto\n",
        "print(l1)\n",
        "l1.remove('Terra')#remove elementos do conjunto\n",
        "print(l1)\n",
        "l1.discard('Venus')#outra Forma de remover elementos\n",
        "print(l1)\n",
        "l1.pop()#remove um elemento porem não sabe-se qual elemento será\n",
        "print(l1)\n",
        "l1.clear()#esvazia o conjunto"
      ],
      "execution_count": 36,
      "outputs": [
        {
          "output_type": "stream",
          "text": [
            "{'Marte', 'Neturno', 'Terra', 'Mercurio', 'Venus', 'gilmar'}\n",
            "{'Marte', 'Neturno', 'Mercurio', 'Venus', 'gilmar'}\n",
            "{'Marte', 'Neturno', 'Mercurio', 'gilmar'}\n",
            "{'Neturno', 'Mercurio', 'gilmar'}\n"
          ],
          "name": "stdout"
        }
      ]
    }
  ]
}